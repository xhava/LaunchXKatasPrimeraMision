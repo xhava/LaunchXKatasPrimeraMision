{
 "cells": [
  {
   "cell_type": "markdown",
   "metadata": {},
   "source": [
    "## Fecha actual del sistema\n",
    "muestra la fecha actual del sistema de la nave\n"
   ]
  },
  {
   "cell_type": "code",
   "execution_count": 9,
   "metadata": {},
   "outputs": [
    {
     "name": "stdout",
     "output_type": "stream",
     "text": [
      "La fecha actual del sistema de la nave es: 2022-02-07\n"
     ]
    }
   ],
   "source": [
    "from datetime import date \n",
    "print(\"La fecha actual del sistema de la nave es: \" + str(date.today()))"
   ]
  },
  {
   "cell_type": "markdown",
   "metadata": {},
   "source": [
    "## Convertidor de Unidades (Parsecs -> Años Luz)\n",
    "un programa de conversión de parsecs a años luz. \n"
   ]
  },
  {
   "cell_type": "code",
   "execution_count": 1,
   "metadata": {},
   "outputs": [
    {
     "name": "stdout",
     "output_type": "stream",
     "text": [
      "La unidad ingresada en inválida, ingresa un número.\n",
      "La unidad ingresada en inválida, ingresa un número.\n",
      "La unidad ingresada en inválida, ingresa un número.\n",
      "23232323.0 parsec/s,  equivalen a 75773615.40388 años luz.\n"
     ]
    }
   ],
   "source": [
    "parsec = ''\n",
    "parsecIsNum = False\n",
    "\n",
    "while parsecIsNum == False :\n",
    "    try:\n",
    "        parsec = float(input(\"ingresa la unidad de parsec a convertir a años luz.\"))\n",
    "        parsecIsNum = True\n",
    "    except: \n",
    "         print(\"La unidad ingresada en inválida, ingresa un número.\") \n",
    "   \n",
    "\n",
    "c = 3.26156;\n",
    "\n",
    "\n",
    "lightyears = parsec * c\n",
    "print(str(parsec) + \" parsec/s,  equivalen a \" + str(lightyears) + \" años luz.\")"
   ]
  }
 ],
 "metadata": {
  "interpreter": {
   "hash": "bc2e404a986013ed96c5296cce61f3268e4edbb61bc336911601db48857f1057"
  },
  "kernelspec": {
   "display_name": "Python 3.9.10 64-bit ('3.9.10')",
   "language": "python",
   "name": "python3"
  },
  "language_info": {
   "codemirror_mode": {
    "name": "ipython",
    "version": 3
   },
   "file_extension": ".py",
   "mimetype": "text/x-python",
   "name": "python",
   "nbconvert_exporter": "python",
   "pygments_lexer": "ipython3",
   "version": "3.9.10"
  },
  "orig_nbformat": 4
 },
 "nbformat": 4,
 "nbformat_minor": 2
}
