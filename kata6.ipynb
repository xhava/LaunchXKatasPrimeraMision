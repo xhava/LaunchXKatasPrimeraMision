{
 "cells": [
  {
   "cell_type": "markdown",
   "metadata": {},
   "source": [
    "## Problem 1\n"
   ]
  },
  {
   "cell_type": "code",
   "execution_count": 18,
   "metadata": {},
   "outputs": [
    {
     "name": "stdout",
     "output_type": "stream",
     "text": [
      "Numero de planetas actuales: 8\n",
      "vamos a agregar a Plutón como 'planeta'\n",
      "El último planeta agregado a la lista es: Plutón\n"
     ]
    }
   ],
   "source": [
    "planets = ['Mercurio', 'Venus', 'Tierra', 'Marte', 'Júpiter', 'Saturno', 'Urano', 'Neptuno']\n",
    "\n",
    "print(f'Numero de planetas actuales: {len(planets)}')\n",
    "\n",
    "print(\"vamos a agregar a Plutón como 'planeta'\")\n",
    "\n",
    "planets.append('Plutón')\n",
    "\n",
    "print(f'El último planeta agregado a la lista es: {planets[-1]}')"
   ]
  },
  {
   "cell_type": "markdown",
   "metadata": {},
   "source": [
    "## Problem 2"
   ]
  },
  {
   "cell_type": "code",
   "execution_count": 19,
   "metadata": {},
   "outputs": [
    {
     "name": "stdout",
     "output_type": "stream",
     "text": [
      "No se encontró el planeta a buscar\n"
     ]
    }
   ],
   "source": [
    "planets = ['Mercurio', 'Venus', 'Tierra', 'Marte', 'Júpiter', 'Saturno', 'Urano', 'Neptuno']\n",
    "inputPlanet = input(\"ingresa el planeta a buscar para encontrar su posición con respecto al Sol\")\n",
    "\n",
    "try: \n",
    "    planetInputIndex = planets.index(inputPlanet);\n",
    "    print(f'{inputPlanet} es el planeta número: {planetInputIndex + 1 } desde el sol')\n",
    "    print(f'Los planetas más cercanos al sol a partir del que ingresaste son: {planets[0:planetInputIndex]}')\n",
    "    print(f'Los planetas más lejanos al sol a partir del que ingresaste son: {planets[planetInputIndex+1:]}')\n",
    "except:\n",
    "    print(\"No se encontró el planeta a buscar\")\n",
    "\n",
    "\n",
    "\n"
   ]
  }
 ],
 "metadata": {
  "interpreter": {
   "hash": "bc2e404a986013ed96c5296cce61f3268e4edbb61bc336911601db48857f1057"
  },
  "kernelspec": {
   "display_name": "Python 3.9.10 64-bit ('3.9.10')",
   "language": "python",
   "name": "python3"
  },
  "language_info": {
   "codemirror_mode": {
    "name": "ipython",
    "version": 3
   },
   "file_extension": ".py",
   "mimetype": "text/x-python",
   "name": "python",
   "nbconvert_exporter": "python",
   "pygments_lexer": "ipython3",
   "version": "3.9.10"
  },
  "orig_nbformat": 4
 },
 "nbformat": 4,
 "nbformat_minor": 2
}
