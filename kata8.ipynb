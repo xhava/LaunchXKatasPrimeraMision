{
 "cells": [
  {
   "cell_type": "markdown",
   "metadata": {},
   "source": [
    "# Problem 1\n"
   ]
  },
  {
   "cell_type": "code",
   "execution_count": 17,
   "metadata": {},
   "outputs": [
    {
     "name": "stdout",
     "output_type": "stream",
     "text": [
      " Planeta: Mars \n",
      " Lunas: 2 \n",
      "____________________________________________________________________________________________________\n",
      " Planeta: Mars \n",
      " Lunas: 2 \n",
      " Circunferencia Polar (km): 6752 \n"
     ]
    }
   ],
   "source": [
    "planet = {\n",
    "    'name': 'Mars',\n",
    "    'moons': 2\n",
    "}\n",
    "\n",
    "print(f''' Planeta: {planet['name']} \\n Lunas: {planet['moons']} ''')\n",
    "\n",
    "\n",
    "planet['circunferencia (km)'] = {\n",
    "    'polar': 6752,\n",
    "    'equatorial': 6792\n",
    "}\n",
    "\n",
    "print( f\"\"\"{'_'*100}\"\"\")\n",
    "print(f''' Planeta: {planet['name']} \\n Lunas: {planet['moons']} \\n Circunferencia Polar (km): {planet['circunferencia (km)']['polar']} ''')\n"
   ]
  },
  {
   "cell_type": "markdown",
   "metadata": {},
   "source": [
    "# Problem 2\n"
   ]
  },
  {
   "cell_type": "code",
   "execution_count": 41,
   "metadata": {},
   "outputs": [
    {
     "name": "stdout",
     "output_type": "stream",
     "text": [
      " Total de Planetas: 12 \n",
      " Total de Lunas: 214 \n",
      "  Promedio Lunas: 17.833333333333332\n"
     ]
    }
   ],
   "source": [
    "\n",
    "\n",
    "# Planets and moons\n",
    "\n",
    "planet_moons = {\n",
    "    'mercury': 0,\n",
    "    'venus': 0,\n",
    "    'earth': 1,\n",
    "    'mars': 2,\n",
    "    'jupiter': 79,\n",
    "    'saturn': 82,\n",
    "    'uranus': 27,\n",
    "    'neptune': 14,\n",
    "    'pluto': 5,\n",
    "    'haumea': 2,\n",
    "    'makemake': 1,\n",
    "    'eris': 1\n",
    "}\n",
    "\n",
    "moons = planet_moons.values()\n",
    "planets = len(planet_moons.keys())\n",
    "\n",
    "totalMoons = 0\n",
    "\n",
    "for moon in moons:\n",
    "    totalMoons += moon\n",
    "\n",
    "\n",
    "print(f''' Total de Planetas: {planets} \\n Total de Lunas: {totalMoons} \\n  Promedio Lunas: {totalMoons/planets}''')"
   ]
  }
 ],
 "metadata": {
  "interpreter": {
   "hash": "bc2e404a986013ed96c5296cce61f3268e4edbb61bc336911601db48857f1057"
  },
  "kernelspec": {
   "display_name": "Python 3.9.10 64-bit ('3.9.10')",
   "language": "python",
   "name": "python3"
  },
  "language_info": {
   "codemirror_mode": {
    "name": "ipython",
    "version": 3
   },
   "file_extension": ".py",
   "mimetype": "text/x-python",
   "name": "python",
   "nbconvert_exporter": "python",
   "pygments_lexer": "ipython3",
   "version": "3.9.10"
  },
  "orig_nbformat": 4
 },
 "nbformat": 4,
 "nbformat_minor": 2
}
