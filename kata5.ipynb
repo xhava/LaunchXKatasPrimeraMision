{
 "cells": [
  {
   "cell_type": "markdown",
   "metadata": {},
   "source": [
    "# Problem 1"
   ]
  },
  {
   "cell_type": "code",
   "execution_count": 9,
   "metadata": {},
   "outputs": [
    {
     "name": "stdout",
     "output_type": "stream",
     "text": [
      "la distancia en km es : 628949330\n",
      "la distancia en km es : 390810874.13143003\n"
     ]
    }
   ],
   "source": [
    "distanciaTierra = 149597870\n",
    "distanciaMarte = 778547200\n",
    "distanciaKm = distanciaMarte - distanciaTierra\n",
    "\n",
    "print(\"la distancia en km es : \" + str(distanciaKm))\n",
    "\n",
    "distanciaMillas = (distanciaMarte - distanciaTierra) * 0.621371\n",
    "print(\"la distancia en km es : \" + str(distanciaMillas))"
   ]
  },
  {
   "cell_type": "markdown",
   "metadata": {},
   "source": [
    "# Problem 2"
   ]
  },
  {
   "cell_type": "code",
   "execution_count": 1,
   "metadata": {},
   "outputs": [
    {
     "name": "stdout",
     "output_type": "stream",
     "text": [
      "La distancia entre el planeta 1 y el planeta 2 es de 119.853 millas\n"
     ]
    }
   ],
   "source": [
    "correctInputNumber = False\n",
    "while correctInputNumber == False:\n",
    "    try:\n",
    "        distancePlanetOne = float(input(\"Ingresa la distancial al sol del planeta 1, en km\"))\n",
    "        correctInputNumber = True\n",
    "    except:\n",
    "        print(\"La distancia ingresada al sol del problema 1 es incorrecta, ingresa un número\")\n",
    "\n",
    "correctInputNumber = False\n",
    "while correctInputNumber == False:\n",
    "    try:\n",
    "        distancePlanetTwo = float(input(\"Ingresa la distancial al sol del planeta 2, en km\"))\n",
    "        correctInputNumber = True\n",
    "    except:\n",
    "        print(\"La distancia ingresada al sol del planeta 2 es incorrecta, ingresa un número\")\n",
    "\n",
    "\n",
    "distanceInMiles = abs(distancePlanetOne - distancePlanetTwo) * 0.621\n",
    "\n",
    "print(f'La distancia entre el planeta 1 y el planeta 2 es de {distanceInMiles} millas')\n",
    "\n",
    "\n",
    "    "
   ]
  }
 ],
 "metadata": {
  "interpreter": {
   "hash": "bc2e404a986013ed96c5296cce61f3268e4edbb61bc336911601db48857f1057"
  },
  "kernelspec": {
   "display_name": "Python 3.9.10 64-bit ('3.9.10')",
   "language": "python",
   "name": "python3"
  },
  "language_info": {
   "codemirror_mode": {
    "name": "ipython",
    "version": 3
   },
   "file_extension": ".py",
   "mimetype": "text/x-python",
   "name": "python",
   "nbconvert_exporter": "python",
   "pygments_lexer": "ipython3",
   "version": "3.9.10"
  },
  "orig_nbformat": 4
 },
 "nbformat": 4,
 "nbformat_minor": 2
}
