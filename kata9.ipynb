{
 "cells": [
  {
   "cell_type": "markdown",
   "metadata": {},
   "source": [
    "# Problem 1\n"
   ]
  },
  {
   "cell_type": "code",
   "execution_count": 10,
   "metadata": {},
   "outputs": [
    {
     "name": "stdout",
     "output_type": "stream",
     "text": [
      " \n",
      "    Tanque 1: 222\n",
      "    Tanque 2: 343\n",
      "    Tanque 3: 43\n",
      "    Promedio Tanques: 202.66666666666666\n",
      "    \n",
      "mejorar la funcion para obtener el promedio en una función aparte\n",
      " \n",
      "    Tanque 1: 222\n",
      "    Tanque 2: 343\n",
      "    Tanque 3: 43\n",
      "    Promedio Tanques: 202.66666666666666\n",
      "    \n"
     ]
    }
   ],
   "source": [
    "def reporteCombustible(tanque1, tanque2, tanque3):\n",
    "\n",
    "    promedio = (tanque1 + tanque2 + tanque3) / 3;\n",
    "\n",
    "    return f''' \n",
    "    Tanque 1: {tanque1}\n",
    "    Tanque 2: {tanque2}\n",
    "    Tanque 3: {tanque3}\n",
    "    Promedio Tanques: {promedio}\n",
    "    '''\n",
    "\n",
    "print(reporteCombustible(222,343,43))\n",
    "\n",
    "\n",
    "\n",
    "\n",
    "## mejorar la funcion para obtener el promedio en una función aparte\n",
    "\n",
    "print('mejorar la funcion para obtener el promedio en una función aparte')\n",
    "\n",
    "def promedioCombustible(combustibleTanques):\n",
    "    return sum(combustibleTanques) / len(combustibleTanques)\n",
    "\n",
    "def reporteCombustible(tanque1, tanque2, tanque3):\n",
    "\n",
    "    promedio = promedioCombustible([tanque1, tanque2, tanque3])\n",
    "\n",
    "    return f''' \n",
    "    Tanque 1: {tanque1}\n",
    "    Tanque 2: {tanque2}\n",
    "    Tanque 3: {tanque3}\n",
    "    Promedio Tanques: {promedio}\n",
    "    '''\n",
    "print(reporteCombustible(222,343,43))"
   ]
  },
  {
   "cell_type": "markdown",
   "metadata": {},
   "source": [
    "# Problem 2\n"
   ]
  },
  {
   "cell_type": "code",
   "execution_count": 26,
   "metadata": {},
   "outputs": [
    {
     "name": "stdout",
     "output_type": "stream",
     "text": [
      "\n",
      "        Hora Lanzamiento: 10:00 pm\n",
      "        Tiempo Vuelo: 20 horas\n",
      "        Destino: Luna\n",
      "        Tanque Externo: 100\n",
      "        Tanque Interno: 300\n",
      "    \n",
      "Actualiza la funcioón para recibir varios interbalos de tiempo (minutos) así como cierto número de tanques y sus niveles de combustible.\n",
      "\n",
      "        Tiempo Vuelo: 100 minutos\n",
      "        Destino: Marte\n",
      "        Total de combustible: 300\n",
      "    \n",
      "Actualiza la funcioón para mostrar el nombre de cada tanque y su nivel de combustible\n",
      "\n",
      "        Tiempo Vuelo: 100 minutos\n",
      "        Destino: Marte\n",
      "        Total de combustible: 800\n",
      "        ____________________\n",
      "        Detalle Tanques:\n",
      "        \n",
      "        Nombre Tanque: tanque1 \n",
      "        Disponible: 100\n",
      "        \n",
      "        Nombre Tanque: tanque2 \n",
      "        Disponible: 200\n",
      "        \n",
      "        Nombre Tanque: tanque3 \n",
      "        Disponible: 500\n",
      "        \n",
      "        \n"
     ]
    }
   ],
   "source": [
    "def informeLanzamiento(horaLanzamiento, tiempoVuelo, destino, tanqueExterno, TanqueInterno):\n",
    "    return f'''\n",
    "        Hora Lanzamiento: {horaLanzamiento}\n",
    "        Tiempo Vuelo: {tiempoVuelo} horas\n",
    "        Destino: {destino}\n",
    "        Tanque Externo: {tanqueExterno}\n",
    "        Tanque Interno: {TanqueInterno}\n",
    "    '''\n",
    "\n",
    "print(informeLanzamiento('10:00 pm', '20', 'Luna', 100, 300))\n",
    "\n",
    "def informeLanzamiento(destino, *minutos, **tanques):\n",
    "    return f'''\n",
    "        Tiempo Vuelo: {sum(minutos)} minutos\n",
    "        Destino: {destino}\n",
    "        Total de combustible: {sum(tanques.values())}\n",
    "    '''\n",
    "\n",
    "\n",
    "print('Actualiza la funcioón para recibir varios interbalos de tiempo (minutos) así como cierto número de tanques y sus niveles de combustible.')\n",
    "\n",
    "print(informeLanzamiento('Marte', 10, 20, 30, 40, tanque1=100, tanque2=200))\n",
    "\n",
    "\n",
    "\n",
    "print('Actualiza la funcioón para mostrar el nombre de cada tanque y su nivel de combustible')\n",
    "\n",
    "def informeLanzamiento(destino, *minutos, **tanques):\n",
    "\n",
    "\n",
    "    detalleTanques = '';\n",
    "\n",
    "    for tanque, disponible in tanques.items():\n",
    "        detalleTanques += f'''\n",
    "        Nombre Tanque: {tanque} \n",
    "        Disponible: {disponible}\n",
    "        '''\n",
    "\n",
    "    return f'''\n",
    "        Tiempo Vuelo: {sum(minutos)} minutos\n",
    "        Destino: {destino}\n",
    "        Total de combustible: {sum(tanques.values())}\n",
    "        {'_'*20}\n",
    "        Detalle Tanques:\n",
    "        { detalleTanques }\n",
    "        '''\n",
    "print(informeLanzamiento('Marte', 10, 20, 30, 40, tanque1=100, tanque2=200, tanque3=500))\n",
    "\n",
    "\n"
   ]
  }
 ],
 "metadata": {
  "interpreter": {
   "hash": "bc2e404a986013ed96c5296cce61f3268e4edbb61bc336911601db48857f1057"
  },
  "kernelspec": {
   "display_name": "Python 3.9.10 64-bit ('3.9.10')",
   "language": "python",
   "name": "python3"
  },
  "language_info": {
   "codemirror_mode": {
    "name": "ipython",
    "version": 3
   },
   "file_extension": ".py",
   "mimetype": "text/x-python",
   "name": "python",
   "nbconvert_exporter": "python",
   "pygments_lexer": "ipython3",
   "version": "3.9.10"
  },
  "orig_nbformat": 4
 },
 "nbformat": 4,
 "nbformat_minor": 2
}
