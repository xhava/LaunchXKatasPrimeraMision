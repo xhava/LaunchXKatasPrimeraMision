{
 "cells": [
  {
   "cell_type": "markdown",
   "metadata": {},
   "source": [
    "# Problem 1\n"
   ]
  },
  {
   "cell_type": "code",
   "execution_count": 2,
   "metadata": {},
   "outputs": [
    {
     "name": "stdout",
     "output_type": "stream",
     "text": [
      "sentencia encontrada con la palabra: \"average\"\n",
      "On average, the Moon moves 4cm away from the Earth every year\n",
      "\n",
      "\n",
      "sentencia encontrada con la palabra: \"temperature\"\n",
      "The highest daylight temperature of the Moon is 127 C\n",
      "\n",
      "\n",
      "Nuevo texto cambiando la letra C por Celcius: \n",
      "Interesting facts about the Moon. The Moon is Earth's only satellite. There are several interesting facts about the Moon and how it affects life here on Earth. \n",
      "On average, the Moon moves 4cm away from the Earth every year. This yearly drift is not significant enough to cause immediate effects on Earth. The highest daylight temperature of the Moon is 127 Celsius.\n"
     ]
    }
   ],
   "source": [
    "text = \"\"\"Interesting facts about the Moon. The Moon is Earth's only satellite. There are several interesting facts about the Moon and how it affects life here on Earth. \n",
    "On average, the Moon moves 4cm away from the Earth every year. This yearly drift is not significant enough to cause immediate effects on Earth. The highest daylight temperature of the Moon is 127 C.\"\"\"\n",
    "\n",
    "splitText = text.split('.')\n",
    "\n",
    "keyWords = ['average', 'temperature', 'distance']\n",
    "\n",
    "for i, sentence in enumerate(splitText) :\n",
    "    for keyWord in keyWords :\n",
    "        if keyWord in sentence:\n",
    "            print(f'sentencia encontrada con la palabra: \"{keyWord}\"\\n{sentence.strip()}\\n\\n')\n",
    "            break\n",
    "    if \"C\" in sentence : \n",
    "       splitText[i]  = sentence.replace('C', 'Celsius')\n",
    "\n",
    "print(f'Nuevo texto cambiando la letra C por Celcius: \\n{\".\".join(splitText)}')\n"
   ]
  },
  {
   "cell_type": "markdown",
   "metadata": {},
   "source": [
    "# Problem 2\n"
   ]
  },
  {
   "cell_type": "code",
   "execution_count": 1,
   "metadata": {},
   "outputs": [
    {
     "name": "stdout",
     "output_type": "stream",
     "text": [
      "Datos De Gravedad Acerca De: Moon\n",
      "____________________________________________________________________________________________________\n",
      "Planeta: Earth\n",
      "Gravedad: 1.6199999999999999 m/s\n",
      "\n",
      "\n",
      "\n",
      "Datos de gravedad acerca de: Ganímedes'\n",
      "____________________________________________________________________________________________________\n",
      "Planeta: Marte\n",
      "Gravedad: 1.4300000000000002 m/s\n",
      "\n"
     ]
    }
   ],
   "source": [
    "# Datos con los que vas a trabajar\n",
    "name = \"Moon\"\n",
    "gravity = 0.00162 # in kms\n",
    "planet = \"Earth\"\n",
    "\n",
    "\n",
    "title = f'Datos de gravedad acerca de: {name}'\n",
    "separator = f\"\"\"{'_'*100}\"\"\"\n",
    "facts = f\"\"\"Planeta: {planet}\n",
    "Gravedad: {gravity * 1000} m/s\n",
    "\"\"\"\n",
    "\n",
    "template = f\"\"\"{title.title()}\n",
    "{separator}\n",
    "{facts}\n",
    "\"\"\"\n",
    "\n",
    "print(template)\n",
    "\n",
    "\n",
    "newTemplate = \"\"\"\n",
    "Datos de gravedad acerca de: {name}'\n",
    "{separator}\n",
    "Planeta: {planet}\n",
    "Gravedad: {gravity} m/s\n",
    "\"\"\"\n",
    "print(newTemplate.format(name='Ganímedes', separator='_'*100, planet='Marte', gravity=0.00143*1000))\n"
   ]
  }
 ],
 "metadata": {
  "interpreter": {
   "hash": "bc2e404a986013ed96c5296cce61f3268e4edbb61bc336911601db48857f1057"
  },
  "kernelspec": {
   "display_name": "Python 3.9.10 64-bit ('3.9.10')",
   "language": "python",
   "name": "python3"
  },
  "language_info": {
   "codemirror_mode": {
    "name": "ipython",
    "version": 3
   },
   "file_extension": ".py",
   "mimetype": "text/x-python",
   "name": "python",
   "nbconvert_exporter": "python",
   "pygments_lexer": "ipython3",
   "version": "3.9.10"
  },
  "orig_nbformat": 4
 },
 "nbformat": 4,
 "nbformat_minor": 2
}
