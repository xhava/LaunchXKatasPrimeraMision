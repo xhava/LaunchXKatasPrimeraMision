{
 "cells": [
  {
   "cell_type": "markdown",
   "metadata": {},
   "source": [
    "# Problem 1, Problem 2\n",
    "\n"
   ]
  },
  {
   "cell_type": "code",
   "execution_count": 10,
   "metadata": {},
   "outputs": [
    {
     "name": "stdout",
     "output_type": "stream",
     "text": [
      "de\n",
      "de\n",
      "de\n",
      "de\n"
     ]
    }
   ],
   "source": [
    "#exercice 1\n",
    "planets = []\n",
    "newPlanet = ''\n",
    "\n",
    "while newPlanet.lower() != 'done':\n",
    "    if newPlanet:\n",
    "         planets.append(newPlanet)\n",
    "    newPlanet = input('Ingresa un planeta, ingresa la palabra \"done\" si deseas terminar con tu lista de planetas')\n",
    "    \n",
    "#exercice 2\n",
    "for planet in planets:\n",
    "    print(planet)\n",
    "       "
   ]
  }
 ],
 "metadata": {
  "interpreter": {
   "hash": "bc2e404a986013ed96c5296cce61f3268e4edbb61bc336911601db48857f1057"
  },
  "kernelspec": {
   "display_name": "Python 3.9.10 64-bit ('3.9.10')",
   "language": "python",
   "name": "python3"
  },
  "language_info": {
   "codemirror_mode": {
    "name": "ipython",
    "version": 3
   },
   "file_extension": ".py",
   "mimetype": "text/x-python",
   "name": "python",
   "nbconvert_exporter": "python",
   "pygments_lexer": "ipython3",
   "version": "3.9.10"
  },
  "orig_nbformat": 4
 },
 "nbformat": 4,
 "nbformat_minor": 2
}
